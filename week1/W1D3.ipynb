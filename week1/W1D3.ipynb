{
 "cells": [
  {
   "cell_type": "markdown",
   "id": "545009b9-9c5b-4bef-b1e9-f566830ace2b",
   "metadata": {},
   "source": [
    "# W1D3"
   ]
  },
  {
   "cell_type": "markdown",
   "id": "9a25eb95-65aa-4b98-92e3-777def6a8cef",
   "metadata": {},
   "source": [
    "# Generalized Linear Models"
   ]
  },
  {
   "cell_type": "markdown",
   "id": "bbf23b98-1a29-4050-b7ae-44c53b74ed6f",
   "metadata": {},
   "source": [
    "## Intro"
   ]
  },
  {
   "cell_type": "markdown",
   "id": "0c43f07f-d332-4460-aee7-87b9e584de5a",
   "metadata": {},
   "source": [
    "some algorithms you might know, such as linear regression, logistic regression, and Poisson regression, are all just special cases of GLMs. They are very useful if you want to study encoding (i.e., predict neural activity from external covariates) or decoding (i.e., predict a behavior or intention from neural activity)."
   ]
  },
  {
   "cell_type": "code",
   "execution_count": null,
   "id": "1b8dc273-d1b7-466b-92ab-16c3dd2a0757",
   "metadata": {},
   "outputs": [],
   "source": []
  }
 ],
 "metadata": {
  "kernelspec": {
   "display_name": "neuroscience",
   "language": "python",
   "name": "neuroscience"
  },
  "language_info": {
   "codemirror_mode": {
    "name": "ipython",
    "version": 3
   },
   "file_extension": ".py",
   "mimetype": "text/x-python",
   "name": "python",
   "nbconvert_exporter": "python",
   "pygments_lexer": "ipython3",
   "version": "3.9.16"
  }
 },
 "nbformat": 4,
 "nbformat_minor": 5
}
